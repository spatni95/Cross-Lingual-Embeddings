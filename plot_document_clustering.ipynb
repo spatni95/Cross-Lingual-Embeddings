{
 "cells": [
  {
   "cell_type": "code",
   "execution_count": 259,
   "metadata": {
    "collapsed": false
   },
   "outputs": [],
   "source": [
    "#%matplotlib inline"
   ]
  },
  {
   "cell_type": "markdown",
   "metadata": {},
   "source": [
    "\n",
    "# Clustering text documents using k-means\n",
    "\n",
    "\n",
    "This is an example showing how the scikit-learn can be used to cluster\n",
    "documents by topics using a bag-of-words approach. This example uses\n",
    "a scipy.sparse matrix to store the features instead of standard numpy arrays.\n",
    "\n",
    "Two feature extraction methods can be used in this example:\n",
    "\n",
    "  - TfidfVectorizer uses a in-memory vocabulary (a python dict) to map the most\n",
    "    frequent words to features indices and hence compute a word occurrence\n",
    "    frequency (sparse) matrix. The word frequencies are then reweighted using\n",
    "    the Inverse Document Frequency (IDF) vector collected feature-wise over\n",
    "    the corpus.\n",
    "\n",
    "  - HashingVectorizer hashes word occurrences to a fixed dimensional space,\n",
    "    possibly with collisions. The word count vectors are then normalized to\n",
    "    each have l2-norm equal to one (projected to the euclidean unit-ball) which\n",
    "    seems to be important for k-means to work in high dimensional space.\n",
    "\n",
    "    HashingVectorizer does not provide IDF weighting as this is a stateless\n",
    "    model (the fit method does nothing). When IDF weighting is needed it can\n",
    "    be added by pipelining its output to a TfidfTransformer instance.\n",
    "\n",
    "Two algorithms are demoed: ordinary k-means and its more scalable cousin\n",
    "minibatch k-means.\n",
    "\n",
    "Additionally, latent semantic analysis can also be used to reduce\n",
    "dimensionality and discover latent patterns in the data.\n",
    "\n",
    "It can be noted that k-means (and minibatch k-means) are very sensitive to\n",
    "feature scaling and that in this case the IDF weighting helps improve the\n",
    "quality of the clustering by quite a lot as measured against the \"ground truth\"\n",
    "provided by the class label assignments of the 20 newsgroups dataset.\n",
    "\n",
    "This improvement is not visible in the Silhouette Coefficient which is small\n",
    "for both as this measure seem to suffer from the phenomenon called\n",
    "\"Concentration of Measure\" or \"Curse of Dimensionality\" for high dimensional\n",
    "datasets such as text data. Other measures such as V-measure and Adjusted Rand\n",
    "Index are information theoretic based evaluation scores: as they are only based\n",
    "on cluster assignments rather than distances, hence not affected by the curse\n",
    "of dimensionality.\n",
    "\n",
    "Note: as k-means is optimizing a non-convex objective function, it will likely\n",
    "end up in a local optimum. Several runs with independent random init might be\n",
    "necessary to get a good convergence.\n",
    "\n",
    "\n"
   ]
  },
  {
   "cell_type": "code",
   "execution_count": 2,
   "metadata": {
    "collapsed": false
   },
   "outputs": [],
   "source": [
    "from __future__ import print_function\n",
    "\n",
    "from sklearn.datasets import fetch_20newsgroups\n",
    "from sklearn.decomposition import TruncatedSVD\n",
    "from sklearn.feature_extraction.text import TfidfVectorizer\n",
    "from sklearn.feature_extraction.text import HashingVectorizer\n",
    "from sklearn.feature_extraction.text import TfidfTransformer\n",
    "from sklearn.pipeline import make_pipeline\n",
    "from sklearn.preprocessing import Normalizer\n",
    "from sklearn import metrics\n",
    "from sklearn.feature_extraction.text import CountVectorizer\n",
    "import nltk\n",
    "from nltk.corpus import stopwords\n",
    "from nltk.stem import PorterStemmer\n",
    "from nltk.tokenize import sent_tokenize, word_tokenize\n",
    "from collections import Counter\n",
    "from sklearn.decomposition import PCA\n",
    "from sklearn.pipeline import Pipeline\n",
    "\n",
    "from sklearn.cluster import KMeans\n",
    "from sklearn.metrics import silhouette_samples, silhouette_score\n",
    "\n",
    "import logging\n",
    "from optparse import OptionParser\n",
    "import sys\n",
    "from time import time\n",
    "\n",
    "import matplotlib.pyplot as plt\n",
    "import matplotlib.cm as cm\n",
    "import numpy as np\n",
    "\n"
   ]
  },
  {
   "cell_type": "code",
   "execution_count": 4,
   "metadata": {
    "collapsed": false
   },
   "outputs": [
    {
     "name": "stdout",
     "output_type": "stream",
     "text": [
      "Loading 6 newsgroups dataset for categories:\n",
      "['alt.atheism', 'comp.windows.x', 'misc.forsale', 'rec.sport.baseball', 'sci.med', 'talk.politics.guns']\n",
      "alt.atheism with 799 documents and unique words (799, 15619)\n",
      "comp.windows.x with 988 documents and unique words (988, 26058)\n",
      "misc.forsale with 975 documents and unique words (975, 15464)\n",
      "rec.sport.baseball with 994 documents and unique words (994, 13986)\n",
      "sci.med with 990 documents and unique words (990, 21599)\n",
      "talk.politics.guns with 910 documents and unique words (910, 20539)\n",
      "6 categories\n",
      "\n"
     ]
    }
   ],
   "source": [
    "# #############################################################################\n",
    "# Load some categories from the training set\n",
    "categories = ['alt.atheism','comp.windows.x','misc.forsale','rec.sport.baseball','sci.med','talk.politics.guns']\n",
    "# Uncomment the following to do the analysis on all the categories\n",
    "# categories = None\n",
    "\n",
    "print(\"Loading 6 newsgroups dataset for categories:\")\n",
    "print(categories)\n",
    "\n",
    "dataset = fetch_20newsgroups(subset='all', categories=categories, shuffle=True, random_state=42)\n",
    "for c in categories:\n",
    "    dataset1 = fetch_20newsgroups(subset='all', categories=[c])\n",
    "    count_vect = CountVectorizer()\n",
    "    X_counts = count_vect.fit_transform(dataset1.data)\n",
    "    print (\"%s with %d documents and unique words %s\" % (c,len(dataset1.data), str(X_counts.shape)))\n",
    "print(\"%d categories\" % len(dataset.target_names))\n",
    "print()\n"
   ]
  },
  {
   "cell_type": "code",
   "execution_count": 5,
   "metadata": {
    "collapsed": false
   },
   "outputs": [
    {
     "name": "stdout",
     "output_type": "stream",
     "text": [
      "Document Term Matrix of dataset : Number of documents , Bag of words (5656, 68471)\n",
      "68471\n"
     ]
    },
    {
     "name": "stderr",
     "output_type": "stream",
     "text": [
      "C:\\Users\\Pranav Makkar\\Anaconda3\\lib\\site-packages\\sklearn\\feature_extraction\\text.py:1015: FutureWarning: Conversion of the second argument of issubdtype from `float` to `np.floating` is deprecated. In future, it will be treated as `np.float64 == np.dtype(float).type`.\n",
      "  if hasattr(X, 'dtype') and np.issubdtype(X.dtype, np.float):\n"
     ]
    }
   ],
   "source": [
    "# Before Removing Stop words Document term Matrix\n",
    "Corpus_Vector = TfidfVectorizer()\n",
    "dataset_df_matrix = Corpus_Vector.fit_transform(dataset.data)\n",
    "print (\"Document Term Matrix of dataset : Number of documents , Bag of words %s\" % (str(dataset_df_matrix.shape)))\n",
    "print (len(Corpus_Vector.get_feature_names()))\n"
   ]
  },
  {
   "cell_type": "code",
   "execution_count": 6,
   "metadata": {
    "collapsed": false
   },
   "outputs": [
    {
     "name": "stdout",
     "output_type": "stream",
     "text": [
      "[nltk_data] Downloading package stopwords to C:\\Users\\Pranav\n",
      "[nltk_data]     Makkar\\AppData\\Roaming\\nltk_data...\n",
      "[nltk_data]   Package stopwords is already up-to-date!\n",
      "Document Term Matrix of dataset : Number of documents , Bag of words (5656, 68327)\n"
     ]
    },
    {
     "name": "stderr",
     "output_type": "stream",
     "text": [
      "C:\\Users\\Pranav Makkar\\Anaconda3\\lib\\site-packages\\sklearn\\feature_extraction\\text.py:1015: FutureWarning: Conversion of the second argument of issubdtype from `float` to `np.floating` is deprecated. In future, it will be treated as `np.float64 == np.dtype(float).type`.\n",
      "  if hasattr(X, 'dtype') and np.issubdtype(X.dtype, np.float):\n"
     ]
    }
   ],
   "source": [
    "# After Removing Stop words  Document term Matrix\n",
    "nltk.download('stopwords')\n",
    "stop_word_list = stopwords.words('english')\n",
    "\n",
    "# After Removing Stop words  Document term Matrix\n",
    "tfidf_vector = TfidfVectorizer(stop_words=stop_word_list, use_idf=True)\n",
    "dataset_df_matrix = tfidf_vector.fit_transform(dataset.data)\n",
    "print (\"Document Term Matrix of dataset : Number of documents , Bag of words %s\" % (str(dataset_df_matrix.shape)))\n"
   ]
  },
  {
   "cell_type": "code",
   "execution_count": 7,
   "metadata": {
    "collapsed": true
   },
   "outputs": [],
   "source": [
    "#STEMMING CODE\n",
    "from nltk.stem.snowball import SnowballStemmer\n",
    "stemmer = SnowballStemmer(\"english\", ignore_stopwords=True)\n",
    "from nltk.tokenize import sent_tokenize, word_tokenize\n",
    "for i in range(0,len(dataset.data)):\n",
    "    x=''\n",
    "    token_document = word_tokenize(dataset.data[i])\n",
    "    for word in token_document:\n",
    "        x += stemmer.stem(word.lower())+' '\n",
    "    dataset.data[i]=x"
   ]
  },
  {
   "cell_type": "code",
   "execution_count": 8,
   "metadata": {
    "collapsed": false
   },
   "outputs": [
    {
     "name": "stdout",
     "output_type": "stream",
     "text": [
      "Document Term Matrix of dataset : Number of documents , Bag of words (5656, 1948)\n",
      "5656\n"
     ]
    },
    {
     "name": "stderr",
     "output_type": "stream",
     "text": [
      "C:\\Users\\Pranav Makkar\\Anaconda3\\lib\\site-packages\\sklearn\\feature_extraction\\text.py:1015: FutureWarning: Conversion of the second argument of issubdtype from `float` to `np.floating` is deprecated. In future, it will be treated as `np.float64 == np.dtype(float).type`.\n",
      "  if hasattr(X, 'dtype') and np.issubdtype(X.dtype, np.float):\n"
     ]
    }
   ],
   "source": [
    "# After Stemming Document term Matrix\n",
    "#nltk.download('stopwords')\n",
    "stop_word_list = stopwords.words('english')\n",
    "tfidf_vector = TfidfVectorizer(stop_words=stop_word_list, use_idf=True,min_df = 0.01 ,max_df = 0.95)\n",
    "dataset_df_matrix = tfidf_vector.fit_transform(dataset.data).todense()\n",
    "print (\"Document Term Matrix of dataset : Number of documents , Bag of words %s\" % (str(dataset_df_matrix.shape)))\n",
    "#print (tfidf_vector.get_feature_names())\n",
    "labels_true  = dataset.target\n",
    "print (len(labels_true))\n"
   ]
  },
  {
   "cell_type": "code",
   "execution_count": 9,
   "metadata": {
    "collapsed": true
   },
   "outputs": [],
   "source": [
    "# Evaluation Measure used for measuring true label as to what clusters each document\n",
    "def evaluation_measure(true_labels, pred_labels):\n",
    "    print(\"\\tHomogeneity: %0.3f\" % metrics.homogeneity_score(true_labels, pred_labels))\n",
    "    print(\"\\tCompleteness: %0.3f\" % metrics.completeness_score(true_labels, pred_labels))\n",
    "    print(\"\\tV-measure: %0.3f\" % metrics.v_measure_score(true_labels, pred_labels))\n",
    "    print(\"\\tAdjusted Rand-Index: %.3f\"\n",
    "          % metrics.adjusted_rand_score(true_labels, pred_labels))\n",
    "    print (\"\\tAccuracy score: %0.3f\" % metrics.accuracy_score(true_labels, pred_labels))\n",
    "    print()"
   ]
  },
  {
   "cell_type": "code",
   "execution_count": 10,
   "metadata": {
    "collapsed": false
   },
   "outputs": [
    {
     "name": "stdout",
     "output_type": "stream",
     "text": [
      "For n_clusters = 5 The average silhouette_score is : 0.011623050683960289\n",
      "\tHomogeneity: 0.529\n",
      "\tCompleteness: 0.734\n",
      "\tV-measure: 0.615\n",
      "\tAdjusted Rand-Index: 0.438\n",
      "\tAccuracy score: 0.314\n",
      "\n",
      "For n_clusters = 6 The average silhouette_score is : 0.014007932096815511\n",
      "\tHomogeneity: 0.619\n",
      "\tCompleteness: 0.697\n",
      "\tV-measure: 0.656\n",
      "\tAdjusted Rand-Index: 0.573\n",
      "\tAccuracy score: 0.411\n",
      "\n",
      "For n_clusters = 7 The average silhouette_score is : 0.015383007543801563\n",
      "\tHomogeneity: 0.653\n",
      "\tCompleteness: 0.675\n",
      "\tV-measure: 0.664\n",
      "\tAdjusted Rand-Index: 0.508\n",
      "\tAccuracy score: 0.141\n",
      "\n",
      "For n_clusters = 8 The average silhouette_score is : 0.0161473057194939\n",
      "\tHomogeneity: 0.666\n",
      "\tCompleteness: 0.663\n",
      "\tV-measure: 0.664\n",
      "\tAdjusted Rand-Index: 0.521\n",
      "\tAccuracy score: 0.312\n",
      "\n",
      "For n_clusters = 9 The average silhouette_score is : 0.015165001781416183\n",
      "\tHomogeneity: 0.656\n",
      "\tCompleteness: 0.621\n",
      "\tV-measure: 0.638\n",
      "\tAdjusted Rand-Index: 0.473\n",
      "\tAccuracy score: 0.269\n",
      "\n"
     ]
    }
   ],
   "source": [
    "## Using Silhoutte analysis for finding optimal K value\n",
    "range_n_clusters = [5,6,7,8,9]\n",
    "sse = {}\n",
    "plot_y_kmeans = {}\n",
    "centers = {}\n",
    "\n",
    "for n_clusters in range_n_clusters:\n",
    "    kmeans = KMeans(n_clusters=n_clusters, random_state=10).fit(dataset_df_matrix)\n",
    "    cluster_labels = kmeans.labels_\n",
    "    plot_y_kmeans[n_clusters] = kmeans.predict(dataset_df_matrix)\n",
    "    centers[n_clusters] = kmeans.cluster_centers_\n",
    "    sse[n_clusters] = kmeans.inertia_\n",
    "\n",
    "    silhouette_avg = silhouette_score(dataset_df_matrix, cluster_labels, metric='euclidean')\n",
    "    \n",
    "    #print (cluster_labels)\n",
    "    print(\"For n_clusters =\", n_clusters,\n",
    "          \"The average silhouette_score is :\", silhouette_avg)\n",
    "    evaluation_measure(labels_true,plot_y_kmeans[n_clusters])\n",
    "    "
   ]
  },
  {
   "cell_type": "code",
   "execution_count": 11,
   "metadata": {
    "collapsed": false
   },
   "outputs": [],
   "source": [
    "# Using SSE and Elbow Method, we found optimal k value  \n",
    "lists = sorted(sse.items()) # sorted by key, return a list of tuples\n",
    "x, y = zip(*lists) # unpack a list of pairs into two tuples\n",
    "\n",
    "plt.plot(x, y)\n",
    "plt.xlabel(\"Number of cluster\")\n",
    "plt.ylabel(\"SSE\")\n",
    "plt.show()"
   ]
  },
  {
   "cell_type": "code",
   "execution_count": 12,
   "metadata": {
    "collapsed": true
   },
   "outputs": [],
   "source": [
    "###### pipeline = Pipeline([\n",
    "#     ('vect', CountVectorizer()),\n",
    "#     ('tfidf', TfidfTransformer()),\n",
    "# ])        \n",
    "# X = pipeline.fit_transform(dataset.data).todense()\n",
    "\n",
    "pca = PCA(n_components=2).fit(dataset_df_matrix)\n",
    "data2D = pca.transform(dataset_df_matrix)\n",
    "# plt.scatter(data2D[:,0], data2D[:,1], c=data.target)\n",
    "# plt.show() "
   ]
  },
  {
   "cell_type": "code",
   "execution_count": 237,
   "metadata": {
    "collapsed": false
   },
   "outputs": [],
   "source": [
    "colors = cm.nipy_spectral(cluster_labels.astype(float) / n_clusters)\n",
    "plt.scatter(data2D[:,0], data2D[:,1], c =colors)\n",
    "plt.show()"
   ]
  },
  {
   "cell_type": "code",
   "execution_count": 260,
   "metadata": {
    "collapsed": false
   },
   "outputs": [
    {
     "name": "stdout",
     "output_type": "stream",
     "text": [
      "5656\n"
     ]
    },
    {
     "data": {
      "image/png": "[encoded data removed]",
      "text/plain": [
       "<matplotlib.figure.Figure at 0x263af16b828>"
      ]
     },
     "metadata": {},
     "output_type": "display_data"
    }
   ],
   "source": [
    "for n_clusters in range_n_clusters:\n",
    "    y_kmeans = plot_y_kmeans[n_clusters]\n",
    "    center = centers[n_clusters]\n",
    "    print (len(y_kmeans))\n",
    "    \n",
    "    colors = cm.nipy_spectral(y_kmeans.astype(float) / n_clusters)\n",
    "    plt.scatter(data2D[:,0], data2D[:,1], c =colors, s=65, cmap='viridis')\n",
    "    plt.scatter(center[:, 0], center[:, 1], marker='x', s=200, linewidths=3, c='r')\n",
    "    plt.show()\n",
    "    break"
   ]
  },
  {
   "cell_type": "code",
   "execution_count": 21,
   "metadata": {
    "collapsed": false
   },
   "outputs": [
    {
     "name": "stdout",
     "output_type": "stream",
     "text": [
      "[[0.         0.07423763 0.         ... 0.         0.         0.        ]]\n"
     ]
    }
   ],
   "source": [
    "print (dataset_df_matrix[5255])"
   ]
  },
  {
   "cell_type": "code",
   "execution_count": 42,
   "metadata": {
    "collapsed": false
   },
   "outputs": [
    {
     "data": {
      "text/plain": [
       "TruncatedSVD(algorithm='randomized', n_components=5, n_iter=7,\n",
       "       random_state=20, tol=0.0)"
      ]
     },
     "execution_count": 42,
     "metadata": {},
     "output_type": "execute_result"
    }
   ],
   "source": [
    "## LSA Representation for clusterng LSA document vectors for 5 Dimensions\n",
    "svd = TruncatedSVD(n_components=5, n_iter=7, random_state=20)\n",
    "svd.fit(dataset_df_matrix)"
   ]
  },
  {
   "cell_type": "code",
   "execution_count": 48,
   "metadata": {
    "collapsed": false
   },
   "outputs": [
    {
     "data": {
      "text/plain": [
       "array([[ 0.03722104,  0.02056252,  0.00563141, ...,  0.02454992,\n",
       "         0.01726253,  0.0179952 ],\n",
       "       [ 0.13046728,  0.0028372 ,  0.00901429, ..., -0.02164096,\n",
       "         0.01039501, -0.00426523],\n",
       "       [-0.0223766 ,  0.00219029,  0.00267683, ...,  0.00685501,\n",
       "        -0.00797941, -0.01262474],\n",
       "       [-0.06876214, -0.01995934, -0.00315111, ...,  0.00239293,\n",
       "        -0.01036977, -0.01047616],\n",
       "       [-0.09792908, -0.01984282, -0.00152501, ...,  0.00835065,\n",
       "         0.00595079,  0.02031189]])"
      ]
     },
     "execution_count": 48,
     "metadata": {},
     "output_type": "execute_result"
    }
   ],
   "source": [
    "svd.components_"
   ]
  },
  {
   "cell_type": "code",
   "execution_count": 49,
   "metadata": {
    "collapsed": false
   },
   "outputs": [
    {
     "data": {
      "text/plain": [
       "TruncatedSVD(algorithm='randomized', n_components=50, n_iter=7,\n",
       "       random_state=20, tol=0.0)"
      ]
     },
     "execution_count": 49,
     "metadata": {},
     "output_type": "execute_result"
    }
   ],
   "source": [
    "## LSA Representation for clusterng LSA document vectors for 50 components\n",
    "svd = TruncatedSVD(n_components=50, n_iter=7, random_state=20)\n",
    "svd.fit(dataset_df_matrix)"
   ]
  },
  {
   "cell_type": "code",
   "execution_count": 50,
   "metadata": {
    "collapsed": false
   },
   "outputs": [
    {
     "data": {
      "text/plain": [
       "TruncatedSVD(algorithm='randomized', n_components=100, n_iter=7,\n",
       "       random_state=20, tol=0.0)"
      ]
     },
     "execution_count": 50,
     "metadata": {},
     "output_type": "execute_result"
    }
   ],
   "source": [
    "## LSA Representation for clusterng LSA document vectors for 100 components\n",
    "svd = TruncatedSVD(n_components=100, n_iter=7, random_state=20)\n",
    "svd.fit(dataset_df_matrix)"
   ]
  },
  {
   "cell_type": "code",
   "execution_count": 51,
   "metadata": {
    "collapsed": false
   },
   "outputs": [
    {
     "data": {
      "text/plain": [
       "TruncatedSVD(algorithm='randomized', n_components=200, n_iter=7,\n",
       "       random_state=20, tol=0.0)"
      ]
     },
     "execution_count": 51,
     "metadata": {},
     "output_type": "execute_result"
    }
   ],
   "source": [
    "## LSA Representation for clusterng LSA document vectors for 200 components\n",
    "svd = TruncatedSVD(n_components=200, n_iter=7, random_state=20)\n",
    "svd.fit(dataset_df_matrix)"
   ]
  },
  {
   "cell_type": "code",
   "execution_count": null,
   "metadata": {
    "collapsed": false
   },
   "outputs": [],
   "source": [
    "# Author: Peter Prettenhofer <peter.prettenhofer@gmail.com>\n",
    "#         Lars Buitinck\n",
    "# License: BSD 3 clause\n",
    "\n",
    "\n",
    "\n",
    "# Display progress logs on stdout\n",
    "logging.basicConfig(level=logging.INFO,\n",
    "                    format='%(asctime)s %(levelname)s %(message)s')\n",
    "\n",
    "# parse commandline arguments\n",
    "op = OptionParser()\n",
    "op.add_option(\"--lsa\",\n",
    "              dest=\"n_components\", type=\"int\",\n",
    "              help=\"Preprocess documents with latent semantic analysis.\")\n",
    "op.add_option(\"--no-minibatch\",\n",
    "              action=\"store_false\", dest=\"minibatch\", default=True,\n",
    "              help=\"Use ordinary k-means algorithm (in batch mode).\")\n",
    "op.add_option(\"--no-idf\",\n",
    "              action=\"store_false\", dest=\"use_idf\", default=True,\n",
    "              help=\"Disable Inverse Document Frequency feature weighting.\")\n",
    "op.add_option(\"--use-hashing\",\n",
    "              action=\"store_true\", default=False,\n",
    "              help=\"Use a hashing feature vectorizer\")\n",
    "op.add_option(\"--n-features\", type=int, default=10000,\n",
    "              help=\"Maximum number of features (dimensions)\"\n",
    "                   \" to extract from text.\")\n",
    "op.add_option(\"--verbose\",\n",
    "              action=\"store_true\", dest=\"verbose\", default=False,\n",
    "              help=\"Print progress reports inside k-means algorithm.\")\n",
    "\n",
    "print(__doc__)\n",
    "op.print_help()\n",
    "\n",
    "\n",
    "def is_interactive():\n",
    "    return not hasattr(sys.modules['__main__'], '__file__')\n",
    "\n",
    "\n",
    "# work-around for Jupyter notebook and IPython console\n",
    "argv = [] if is_interactive() else sys.argv[1:]\n",
    "(opts, args) = op.parse_args(argv)\n",
    "if len(args) > 0:\n",
    "    op.error(\"this script takes no arguments.\")\n",
    "    sys.exit(1)\n",
    "\n",
    "\n",
    "# #############################################################################\n",
    "# Load some categories from the training set\n",
    "categories = [\n",
    "    'alt.atheism',\n",
    "    'talk.religion.misc',\n",
    "    'comp.graphics',\n",
    "    'sci.space',\n",
    "]\n",
    "# Uncomment the following to do the analysis on all the categories\n",
    "# categories = None\n",
    "\n",
    "print(\"Loading 20 newsgroups dataset for categories:\")\n",
    "print(categories)\n",
    "\n",
    "dataset = fetch_20newsgroups(subset='all', categories=categories,\n",
    "                             shuffle=True, random_state=42)\n",
    "\n",
    "print(\"%d documents\" % len(dataset.data))\n",
    "print(\"%d categories\" % len(dataset.target_names))\n",
    "print()\n",
    "\n",
    "labels = dataset.target\n",
    "true_k = np.unique(labels).shape[0]\n",
    "\n",
    "print(\"Extracting features from the training dataset \"\n",
    "      \"using a sparse vectorizer\")\n",
    "t0 = time()\n",
    "if opts.use_hashing:\n",
    "    if opts.use_idf:\n",
    "        # Perform an IDF normalization on the output of HashingVectorizer\n",
    "        hasher = HashingVectorizer(n_features=opts.n_features,\n",
    "                                   stop_words='english', alternate_sign=False,\n",
    "                                   norm=None, binary=False)\n",
    "        vectorizer = make_pipeline(hasher, TfidfTransformer())\n",
    "    else:\n",
    "        vectorizer = HashingVectorizer(n_features=opts.n_features,\n",
    "                                       stop_words='english',\n",
    "                                       alternate_sign=False, norm='l2',\n",
    "                                       binary=False)\n",
    "else:\n",
    "    vectorizer = TfidfVectorizer(max_df=0.5, max_features=opts.n_features,\n",
    "                                 min_df=2, stop_words='english',\n",
    "                                 use_idf=opts.use_idf)\n",
    "X = vectorizer.fit_transform(dataset.data)\n",
    "\n",
    "print(\"done in %fs\" % (time() - t0))\n",
    "print(\"n_samples: %d, n_features: %d\" % X.shape)\n",
    "print()\n",
    "\n",
    "if opts.n_components:\n",
    "    print(\"Performing dimensionality reduction using LSA\")\n",
    "    t0 = time()\n",
    "    # Vectorizer results are normalized, which makes KMeans behave as\n",
    "    # spherical k-means for better results. Since LSA/SVD results are\n",
    "    # not normalized, we have to redo the normalization.\n",
    "    svd = TruncatedSVD(opts.n_components)\n",
    "    normalizer = Normalizer(copy=False)\n",
    "    lsa = make_pipeline(svd, normalizer)\n",
    "\n",
    "    X = lsa.fit_transform(X)\n",
    "\n",
    "    print(\"done in %fs\" % (time() - t0))\n",
    "\n",
    "    explained_variance = svd.explained_variance_ratio_.sum()\n",
    "    print(\"Explained variance of the SVD step: {}%\".format(\n",
    "        int(explained_variance * 100)))\n",
    "\n",
    "    print()\n",
    "\n",
    "\n",
    "# #############################################################################\n",
    "# Do the actual clustering\n",
    "\n",
    "if opts.minibatch:\n",
    "    km = MiniBatchKMeans(n_clusters=true_k, init='k-means++', n_init=1,\n",
    "                         init_size=1000, batch_size=1000, verbose=opts.verbose)\n",
    "else:\n",
    "    km = KMeans(n_clusters=true_k, init='k-means++', max_iter=100, n_init=1,\n",
    "                verbose=opts.verbose)\n",
    "\n",
    "print(\"Clustering sparse data with %s\" % km)\n",
    "t0 = time()\n",
    "km.fit(X)\n",
    "print(\"done in %0.3fs\" % (time() - t0))\n",
    "print()\n",
    "\n",
    "print(\"Homogeneity: %0.3f\" % metrics.homogeneity_score(labels, km.labels_))\n",
    "print(\"Completeness: %0.3f\" % metrics.completeness_score(labels, km.labels_))\n",
    "print(\"V-measure: %0.3f\" % metrics.v_measure_score(labels, km.labels_))\n",
    "print(\"Adjusted Rand-Index: %.3f\"\n",
    "      % metrics.adjusted_rand_score(labels, km.labels_))\n",
    "print(\"Silhouette Coefficient: %0.3f\"\n",
    "      % metrics.silhouette_score(X, km.labels_, sample_size=1000))\n",
    "\n",
    "print()\n",
    "\n",
    "\n",
    "if not opts.use_hashing:\n",
    "    print(\"Top terms per cluster:\")\n",
    "\n",
    "    if opts.n_components:\n",
    "        original_space_centroids = svd.inverse_transform(km.cluster_centers_)\n",
    "        order_centroids = original_space_centroids.argsort()[:, ::-1]\n",
    "    else:\n",
    "        order_centroids = km.cluster_centers_.argsort()[:, ::-1]\n",
    "\n",
    "    terms = vectorizer.get_feature_names()\n",
    "    for i in range(true_k):\n",
    "        print(\"Cluster %d:\" % i, end='')\n",
    "        for ind in order_centroids[i, :10]:\n",
    "            print(' %s' % terms[ind], end='')\n",
    "        print()"
   ]
  },
  {
   "cell_type": "code",
   "execution_count": 74,
   "metadata": {
    "collapsed": true
   },
   "outputs": [],
   "source": [
    "import matplotlib.pyplot as plt\n",
    "plt.plot([1,2,3,4])\n",
    "plt.ylabel('some numbers')\n",
    "plt.show()"
   ]
  },
  {
   "cell_type": "code",
   "execution_count": null,
   "metadata": {
    "collapsed": true
   },
   "outputs": [],
   "source": []
  }
 ],
 "metadata": {
  "anaconda-cloud": {},
  "kernelspec": {
   "display_name": "Python [Anaconda3]",
   "language": "python",
   "name": "Python [Anaconda3]"
  },
  "language_info": {
   "codemirror_mode": {
    "name": "ipython",
    "version": 3
   },
   "file_extension": ".py",
   "mimetype": "text/x-python",
   "name": "python",
   "nbconvert_exporter": "python",
   "pygments_lexer": "ipython3",
   "version": "3.5.6"
  }
 },
 "nbformat": 4,
 "nbformat_minor": 0
}
